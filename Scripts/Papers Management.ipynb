{
 "cells": [
  {
   "cell_type": "code",
   "execution_count": 1,
   "id": "1ad8e7db-573e-4924-b920-935a1451a290",
   "metadata": {},
   "outputs": [],
   "source": [
    "import pandas as pd\n",
    "import os\n",
    "import bibtexparser as btp\n",
    "import pprint as pp\n",
    "from IPython.display import clear_output\n",
    "import matplotlib.pyplot as plt\n",
    "import time"
   ]
  },
  {
   "cell_type": "code",
   "execution_count": 2,
   "id": "ae979a17-691e-4397-ac1f-cc74a6254ef4",
   "metadata": {},
   "outputs": [],
   "source": [
    "home = os.getcwd() + \"/\"\n",
    "dirs = [\"GS\", \"Sc\", \"SS\", \"WoS\"]"
   ]
  },
  {
   "cell_type": "code",
   "execution_count": 3,
   "id": "d4655da6-ba3e-4f5b-91ad-722e3a05afba",
   "metadata": {},
   "outputs": [
    {
     "name": "stdout",
     "output_type": "stream",
     "text": [
      "Total Amount of Articles Collected: 99599\n"
     ]
    }
   ],
   "source": [
    "articles_collection = pd.DataFrame()\n",
    "max_count = 157\n",
    "\n",
    "for d in dirs:\n",
    "    \n",
    "    print(len(articles_collection))\n",
    "    \n",
    "    time.sleep(5)\n",
    "    \n",
    "    i = 1\n",
    "    \n",
    "    while i < max_count:\n",
    "        if d == \"GS\":\n",
    "            articles_file_name = home + d + \"/Q\" + str(i) + \".csv\"\n",
    "        else:\n",
    "            articles_file_name = home + d + \"/q\" + str(i) + \".csv\"\n",
    "            \n",
    "        if os.path.exists(articles_file_name):\n",
    "            articles = pd.read_csv(articles_file_name)\n",
    "            \n",
    "            #associo references\n",
    "            #if d == \"GS\":\n",
    "            #    references_file_name = home + d + \"/Q\" + str(i) + \".bib\"\n",
    "            #else:\n",
    "            #    references_file_name = home + d + \"/q\" + str(i) + \".bib\"\n",
    "            #\n",
    "            #if os.path.exists(references_file_name):\n",
    "            #    with open(references_file_name) as bibtex_file:\n",
    "            #        bibtex_references = btp.load(bibtex_file)\n",
    "                \n",
    "                #aggiungo references agli articles\n",
    "            \n",
    "            articles_collection = pd.concat([articles_collection, articles])\n",
    "            \n",
    "        print(d + \") \" + str(i) + \"/156 \" + \"New Articles: \" + str(len(articles)))\n",
    "        clear_output(wait=True)\n",
    "        \n",
    "        i = i + 1\n",
    "        \n",
    "print(\"Total Amount of Articles Collected: \" + str(len(articles_collection)))"
   ]
  },
  {
   "cell_type": "code",
   "execution_count": 4,
   "id": "ca63d3c5-ec7c-45a4-b4d1-3121d617d207",
   "metadata": {},
   "outputs": [
    {
     "name": "stdout",
     "output_type": "stream",
     "text": [
      "Total Amount of UNIQUE Articles Collected: 45422\n"
     ]
    }
   ],
   "source": [
    "#remove duplicates\n",
    "articles_collection = articles_collection.drop_duplicates(subset=['Title', 'Authors'])\n",
    "\n",
    "print(\"Total Amount of UNIQUE Articles Collected: \" + str(len(articles_collection)))"
   ]
  },
  {
   "cell_type": "code",
   "execution_count": 5,
   "id": "f5568707-a6da-43d6-a8aa-11fea5f6e45d",
   "metadata": {},
   "outputs": [
    {
     "name": "stdout",
     "output_type": "stream",
     "text": [
      "Total Amount of Articles Collected (Year > 2011): 35810\n"
     ]
    }
   ],
   "source": [
    "articles_collection_last_10_years = articles_collection[articles_collection['Year'] >= 2012.0]\n",
    "\n",
    "print(\"Total Amount of Articles Collected (Year > 2011): \" + str(len(articles_collection_last_10_years)))"
   ]
  },
  {
   "cell_type": "code",
   "execution_count": 6,
   "id": "01cdadfb-ee1f-47f7-bc35-53a4caa8ff04",
   "metadata": {},
   "outputs": [],
   "source": [
    "articles_collection_last_10_years = articles_collection_last_10_years.sort_values(by=['Title'])\n",
    "\n",
    "articles_collection_last_10_years.to_csv(home + 'unique_articles.csv')"
   ]
  },
  {
   "cell_type": "code",
   "execution_count": 24,
   "id": "ba1d0a0d-3a8f-47a4-9cd8-aadcff7a377c",
   "metadata": {},
   "outputs": [
    {
     "data": {
      "text/html": [
       "<div>\n",
       "<style scoped>\n",
       "    .dataframe tbody tr th:only-of-type {\n",
       "        vertical-align: middle;\n",
       "    }\n",
       "\n",
       "    .dataframe tbody tr th {\n",
       "        vertical-align: top;\n",
       "    }\n",
       "\n",
       "    .dataframe thead th {\n",
       "        text-align: right;\n",
       "    }\n",
       "</style>\n",
       "<table border=\"1\" class=\"dataframe\">\n",
       "  <thead>\n",
       "    <tr style=\"text-align: right;\">\n",
       "      <th></th>\n",
       "      <th>Cites</th>\n",
       "      <th>Authors</th>\n",
       "      <th>Title</th>\n",
       "      <th>Year</th>\n",
       "      <th>Source</th>\n",
       "      <th>Publisher</th>\n",
       "      <th>ArticleURL</th>\n",
       "      <th>CitesURL</th>\n",
       "      <th>GSRank</th>\n",
       "      <th>QueryDate</th>\n",
       "      <th>...</th>\n",
       "      <th>h_coverage</th>\n",
       "      <th>g_coverage</th>\n",
       "      <th>star_count</th>\n",
       "      <th>year_first</th>\n",
       "      <th>year_last</th>\n",
       "      <th>acc1</th>\n",
       "      <th>acc2</th>\n",
       "      <th>acc5</th>\n",
       "      <th>acc20</th>\n",
       "      <th>hA</th>\n",
       "    </tr>\n",
       "  </thead>\n",
       "  <tbody>\n",
       "    <tr>\n",
       "      <th>0</th>\n",
       "      <td>1.0</td>\n",
       "      <td>E Goforth, W El-Dakhakhni, L Wiebe</td>\n",
       "      <td>Step Through the Noise: Insight into Resilienc...</td>\n",
       "      <td>2023.0</td>\n",
       "      <td>Canadian Society of Civil …</td>\n",
       "      <td>Springer</td>\n",
       "      <td>https://link.springer.com/chapter/10.1007/978-...</td>\n",
       "      <td>https://scholar.google.com/scholar?cites=44429...</td>\n",
       "      <td>139.0</td>\n",
       "      <td>2022-07-13 10:32:22</td>\n",
       "      <td>...</td>\n",
       "      <td>NaN</td>\n",
       "      <td>NaN</td>\n",
       "      <td>NaN</td>\n",
       "      <td>NaN</td>\n",
       "      <td>NaN</td>\n",
       "      <td>NaN</td>\n",
       "      <td>NaN</td>\n",
       "      <td>NaN</td>\n",
       "      <td>NaN</td>\n",
       "      <td>NaN</td>\n",
       "    </tr>\n",
       "    <tr>\n",
       "      <th>56</th>\n",
       "      <td>0.0</td>\n",
       "      <td>V. Unadkat</td>\n",
       "      <td>Code-free machine learning for object detectio...</td>\n",
       "      <td>2022.0</td>\n",
       "      <td>Neurosurgical Focus</td>\n",
       "      <td>NaN</td>\n",
       "      <td>NaN</td>\n",
       "      <td>https://www.scopus.com/inward/citedby.uri?part...</td>\n",
       "      <td>57.0</td>\n",
       "      <td>2022-07-12 16:31:31</td>\n",
       "      <td>...</td>\n",
       "      <td>NaN</td>\n",
       "      <td>NaN</td>\n",
       "      <td>NaN</td>\n",
       "      <td>NaN</td>\n",
       "      <td>NaN</td>\n",
       "      <td>NaN</td>\n",
       "      <td>NaN</td>\n",
       "      <td>NaN</td>\n",
       "      <td>NaN</td>\n",
       "      <td>NaN</td>\n",
       "    </tr>\n",
       "    <tr>\n",
       "      <th>38</th>\n",
       "      <td>3.0</td>\n",
       "      <td>P Unal, Ö Albayrak, M Jomâa, AJ Berre</td>\n",
       "      <td>Data-driven artificial intelligence and predic...</td>\n",
       "      <td>2022.0</td>\n",
       "      <td>Technologies and Applications …</td>\n",
       "      <td>Springer</td>\n",
       "      <td>https://link.springer.com/chapter/10.1007/978-...</td>\n",
       "      <td>https://scholar.google.com/scholar?cites=93832...</td>\n",
       "      <td>39.0</td>\n",
       "      <td>2022-07-12 13:35:23</td>\n",
       "      <td>...</td>\n",
       "      <td>NaN</td>\n",
       "      <td>NaN</td>\n",
       "      <td>NaN</td>\n",
       "      <td>NaN</td>\n",
       "      <td>NaN</td>\n",
       "      <td>NaN</td>\n",
       "      <td>NaN</td>\n",
       "      <td>NaN</td>\n",
       "      <td>NaN</td>\n",
       "      <td>NaN</td>\n",
       "    </tr>\n",
       "    <tr>\n",
       "      <th>85</th>\n",
       "      <td>0.0</td>\n",
       "      <td>Jian Wang, Shibin Gao, Long Yu, Dongkai Zhang,...</td>\n",
       "      <td>Predicting wind-caused floater intrusion risk ...</td>\n",
       "      <td>2022.0</td>\n",
       "      <td>Reliability Engineering &amp; System Safety</td>\n",
       "      <td>NaN</td>\n",
       "      <td>NaN</td>\n",
       "      <td>NaN</td>\n",
       "      <td>86.0</td>\n",
       "      <td>2022-07-13 16:07:15</td>\n",
       "      <td>...</td>\n",
       "      <td>NaN</td>\n",
       "      <td>NaN</td>\n",
       "      <td>NaN</td>\n",
       "      <td>NaN</td>\n",
       "      <td>NaN</td>\n",
       "      <td>NaN</td>\n",
       "      <td>NaN</td>\n",
       "      <td>NaN</td>\n",
       "      <td>NaN</td>\n",
       "      <td>NaN</td>\n",
       "    </tr>\n",
       "    <tr>\n",
       "      <th>65</th>\n",
       "      <td>0.0</td>\n",
       "      <td>Guangnan Zhang, Zainab Hasan Ali, Mohammed Sul...</td>\n",
       "      <td>Reinforced concrete deep beam shear strength c...</td>\n",
       "      <td>2022.0</td>\n",
       "      <td>Engineering With Computers</td>\n",
       "      <td>NaN</td>\n",
       "      <td>NaN</td>\n",
       "      <td>NaN</td>\n",
       "      <td>66.0</td>\n",
       "      <td>2022-07-14 15:20:40</td>\n",
       "      <td>...</td>\n",
       "      <td>NaN</td>\n",
       "      <td>NaN</td>\n",
       "      <td>NaN</td>\n",
       "      <td>NaN</td>\n",
       "      <td>NaN</td>\n",
       "      <td>NaN</td>\n",
       "      <td>NaN</td>\n",
       "      <td>NaN</td>\n",
       "      <td>NaN</td>\n",
       "      <td>NaN</td>\n",
       "    </tr>\n",
       "  </tbody>\n",
       "</table>\n",
       "<p>5 rows × 57 columns</p>\n",
       "</div>"
      ],
      "text/plain": [
       "    Cites                                            Authors  \\\n",
       "0     1.0                 E Goforth, W El-Dakhakhni, L Wiebe   \n",
       "56    0.0                                         V. Unadkat   \n",
       "38    3.0              P Unal, Ö Albayrak, M Jomâa, AJ Berre   \n",
       "85    0.0  Jian Wang, Shibin Gao, Long Yu, Dongkai Zhang,...   \n",
       "65    0.0  Guangnan Zhang, Zainab Hasan Ali, Mohammed Sul...   \n",
       "\n",
       "                                                Title    Year  \\\n",
       "0   Step Through the Noise: Insight into Resilienc...  2023.0   \n",
       "56  Code-free machine learning for object detectio...  2022.0   \n",
       "38  Data-driven artificial intelligence and predic...  2022.0   \n",
       "85  Predicting wind-caused floater intrusion risk ...  2022.0   \n",
       "65  Reinforced concrete deep beam shear strength c...  2022.0   \n",
       "\n",
       "                                     Source Publisher  \\\n",
       "0               Canadian Society of Civil …  Springer   \n",
       "56                      Neurosurgical Focus       NaN   \n",
       "38          Technologies and Applications …  Springer   \n",
       "85  Reliability Engineering & System Safety       NaN   \n",
       "65               Engineering With Computers       NaN   \n",
       "\n",
       "                                           ArticleURL  \\\n",
       "0   https://link.springer.com/chapter/10.1007/978-...   \n",
       "56                                                NaN   \n",
       "38  https://link.springer.com/chapter/10.1007/978-...   \n",
       "85                                                NaN   \n",
       "65                                                NaN   \n",
       "\n",
       "                                             CitesURL  GSRank  \\\n",
       "0   https://scholar.google.com/scholar?cites=44429...   139.0   \n",
       "56  https://www.scopus.com/inward/citedby.uri?part...    57.0   \n",
       "38  https://scholar.google.com/scholar?cites=93832...    39.0   \n",
       "85                                                NaN    86.0   \n",
       "65                                                NaN    66.0   \n",
       "\n",
       "              QueryDate  ... h_coverage g_coverage star_count year_first  \\\n",
       "0   2022-07-13 10:32:22  ...        NaN        NaN        NaN        NaN   \n",
       "56  2022-07-12 16:31:31  ...        NaN        NaN        NaN        NaN   \n",
       "38  2022-07-12 13:35:23  ...        NaN        NaN        NaN        NaN   \n",
       "85  2022-07-13 16:07:15  ...        NaN        NaN        NaN        NaN   \n",
       "65  2022-07-14 15:20:40  ...        NaN        NaN        NaN        NaN   \n",
       "\n",
       "    year_last  acc1  acc2  acc5  acc20  hA  \n",
       "0         NaN   NaN   NaN   NaN    NaN NaN  \n",
       "56        NaN   NaN   NaN   NaN    NaN NaN  \n",
       "38        NaN   NaN   NaN   NaN    NaN NaN  \n",
       "85        NaN   NaN   NaN   NaN    NaN NaN  \n",
       "65        NaN   NaN   NaN   NaN    NaN NaN  \n",
       "\n",
       "[5 rows x 57 columns]"
      ]
     },
     "execution_count": 24,
     "metadata": {},
     "output_type": "execute_result"
    }
   ],
   "source": [
    "articles_collection_last_10_years = articles_collection_last_10_years.sort_values(by=['Year'], ascending=False)\n",
    "\n",
    "articles_collection_last_10_years.head()"
   ]
  },
  {
   "cell_type": "markdown",
   "id": "a5513445-ced2-4185-9759-56d100f523fe",
   "metadata": {},
   "source": [
    "<h4>Plot Statistics</h4>"
   ]
  },
  {
   "cell_type": "code",
   "execution_count": 7,
   "id": "101f42b8-db8b-4a8b-a81a-3f2831bd838f",
   "metadata": {},
   "outputs": [
    {
     "data": {
      "image/png": "[encoded data removed]",
      "text/plain": [
       "<Figure size 432x288 with 1 Axes>"
      ]
     },
     "metadata": {
      "needs_background": "light"
     },
     "output_type": "display_data"
    }
   ],
   "source": [
    "plt.hist(articles_collection['Cites'], bins=[i for i in range(0, 45)], log=False);"
   ]
  },
  {
   "cell_type": "code",
   "execution_count": 20,
   "id": "ed014eea-10f1-4990-abe9-cd2dac7c810e",
   "metadata": {},
   "outputs": [
    {
     "data": {
      "image/png": "[encoded data removed]",
      "text/plain": [
       "<Figure size 432x288 with 1 Axes>"
      ]
     },
     "metadata": {
      "needs_background": "light"
     },
     "output_type": "display_data"
    }
   ],
   "source": [
    "plt.hist(articles_collection_last_10_years['Year'], bins=[i-0.5 for i in range(2011, 2024)], log=False, edgecolor='black', linewidth=1.2)\n",
    "plt.xticks([i for i in range(2011, 2024)], rotation = 40)\n",
    "plt.savefig('papers_per_year.png')"
   ]
  },
  {
   "cell_type": "code",
   "execution_count": null,
   "id": "003834f6-d993-4424-a475-e0195554a8c3",
   "metadata": {},
   "outputs": [],
   "source": []
  }
 ],
 "metadata": {
  "kernelspec": {
   "display_name": "Python 3 (ipykernel)",
   "language": "python",
   "name": "python3"
  },
  "language_info": {
   "codemirror_mode": {
    "name": "ipython",
    "version": 3
   },
   "file_extension": ".py",
   "mimetype": "text/x-python",
   "name": "python",
   "nbconvert_exporter": "python",
   "pygments_lexer": "ipython3",
   "version": "3.10.5"
  }
 },
 "nbformat": 4,
 "nbformat_minor": 5
}
