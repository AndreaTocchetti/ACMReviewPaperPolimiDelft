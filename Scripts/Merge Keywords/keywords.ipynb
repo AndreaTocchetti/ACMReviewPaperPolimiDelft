{
 "cells": [
  {
   "cell_type": "code",
   "execution_count": null,
   "metadata": {},
   "outputs": [],
   "source": [
    "import json\n",
    "import yaml\n",
    "import pandas as pd\n",
    "from matplotlib import pyplot as plt"
   ]
  },
  {
   "cell_type": "code",
   "execution_count": null,
   "metadata": {},
   "outputs": [],
   "source": [
    "df_yes = pd.read_csv(\"Yes.csv\")\n",
    "df_discussion = pd.read_csv(\"Discussion.csv\")"
   ]
  },
  {
   "cell_type": "code",
   "execution_count": null,
   "metadata": {},
   "outputs": [],
   "source": [
    "def fix_formatting(s):\n",
    "    tokens = [t.strip() for t in s.lower().split(\",\")]\n",
    "    tokens.sort()\n",
    "    return tokens\n",
    "\n",
    "df_yes[\"tokens\"] = df_yes[\"Classification Keywords\"].apply(lambda s: fix_formatting(s))\n",
    "df_yes.head()"
   ]
  },
  {
   "cell_type": "code",
   "execution_count": null,
   "metadata": {},
   "outputs": [],
   "source": [
    "def tokens_to_dict(df, col):\n",
    "    kw_dict = {}\n",
    "    for _, row in df.iterrows():\n",
    "        for t in row[col]:\n",
    "            if t not in kw_dict:\n",
    "                kw_dict[t] = 0\n",
    "            kw_dict[t] +=1\n",
    "\n",
    "    # kw_dict = {k: v for k, v in sorted(kw_dict.items(), key = lambda item: item[1])}\n",
    "    kw_dict = {k: v for k, v in sorted(kw_dict.items(), key = lambda item: item[1], reverse = True)}\n",
    "    \n",
    "    return kw_dict"
   ]
  },
  {
   "cell_type": "code",
   "execution_count": null,
   "metadata": {},
   "outputs": [],
   "source": [
    "kw_dict = tokens_to_dict(df_yes, \"tokens\")\n",
    "with open(\"kw_dict.json\", \"w\") as f:\n",
    "    json.dump(kw_dict, f, indent = 4)"
   ]
  },
  {
   "cell_type": "code",
   "execution_count": null,
   "metadata": {},
   "outputs": [],
   "source": [
    "with open(\"kw_changes.yml\", \"r\") as f:\n",
    "    kw_rules = yaml.load(f, Loader=yaml.FullLoader)\n",
    "\n",
    "def fix_keywords(tokens, kw_rules):\n",
    "    for k in kw_rules.keys():\n",
    "        dest = kw_rules[k][\"dest\"]\n",
    "        source = kw_rules[k][\"source\"]\n",
    "        if dest == \"to_delete\":\n",
    "            pass\n",
    "        else:\n",
    "            for source_kw in source:\n",
    "                for t in tokens:\n",
    "                    if source_kw == t:\n",
    "                        tokens.remove(t)\n",
    "                        for d in dest:\n",
    "                            tokens.append(d)\n",
    "    tokens = list(set(tokens))\n",
    "    tokens.sort()\n",
    "    return tokens\n",
    "\n",
    "df_yes[\"tokens_agg\"] = df_yes[\"tokens\"].apply(lambda s: fix_keywords(s, kw_rules))\n",
    "\n",
    "kw_dict_fix = tokens_to_dict(df_yes, \"tokens_agg\")\n",
    "with open(\"kw_dict_fix.json\", \"w\") as f:\n",
    "    json.dump(kw_dict_fix, f, indent = 4)"
   ]
  },
  {
   "cell_type": "code",
   "execution_count": null,
   "metadata": {},
   "outputs": [],
   "source": [
    "df_yes.head()"
   ]
  },
  {
   "cell_type": "code",
   "execution_count": null,
   "metadata": {},
   "outputs": [],
   "source": [
    "kw_low_freq = [k for k in kw_dict_fix if (kw_dict_fix[k] < 2)]\n",
    "len(kw_low_freq)"
   ]
  },
  {
   "cell_type": "code",
   "execution_count": null,
   "metadata": {},
   "outputs": [],
   "source": [
    "def check_delete(tokens, kw_low_freq):\n",
    "    for t in tokens:\n",
    "        if t in kw_low_freq or t == \"to_delete\":\n",
    "            return True\n",
    "    return False\n",
    "\n",
    "df_yes[\"to_delete\"] = df_yes[\"tokens_agg\"].apply(lambda s: check_delete(s, kw_low_freq))\n",
    "\n",
    "print(\"This many would be ignored: {}\".format(len(df_yes[df_yes[\"to_delete\"] == True])))\n",
    "print(\"This many would be kept: {}\".format(len(df_yes) - len(df_yes[df_yes[\"to_delete\"] == True])))"
   ]
  },
  {
   "cell_type": "code",
   "execution_count": null,
   "metadata": {},
   "outputs": [],
   "source": [
    "df_keep = df_yes[df_yes[\"to_delete\"] == False]\n",
    "len(df_keep)"
   ]
  },
  {
   "cell_type": "code",
   "execution_count": null,
   "metadata": {},
   "outputs": [],
   "source": [
    "df_keep.sort_values(by=\"GSRank\", inplace=True)\n",
    "df_keep = df_keep.drop([\"to_delete\", \"tokens\", \"Unnamed: 2\", \"Unnamed: 4\"], axis=1)\n",
    "df_keep.head()"
   ]
  },
  {
   "cell_type": "code",
   "execution_count": null,
   "metadata": {},
   "outputs": [],
   "source": [
    "df_keep.to_csv(\"ordered_articles.csv\")"
   ]
  },
  {
   "cell_type": "code",
   "execution_count": null,
   "metadata": {},
   "outputs": [],
   "source": [
    "def remove_kw(tokens, kw_low_freq):\n",
    "    new_tokens = tokens\n",
    "    for t in tokens:\n",
    "        if t in kw_low_freq or t == \"to_delete\":\n",
    "            new_tokens.remove(t)\n",
    "    return new_tokens\n",
    "\n",
    "def check_delete_2(tokens):\n",
    "    if len(tokens) > 0:\n",
    "        return False\n",
    "    else:\n",
    "        return True\n",
    "\n",
    "df_yes[\"tokens_agg_2\"] = df_yes[\"tokens_agg\"].apply(lambda s: remove_kw(s, kw_low_freq))\n",
    "df_yes[\"to_delete_2\"] = df_yes[\"tokens_agg_2\"].apply(lambda s: check_delete_2(s))\n",
    "\n",
    "print(\"This many would be ignored: {}\".format(len(df_yes[df_yes[\"to_delete_2\"] == True])))\n",
    "print(\"This many would be kept: {}\".format(len(df_yes) - len(df_yes[df_yes[\"to_delete_2\"] == True])))"
   ]
  },
  {
   "cell_type": "code",
   "execution_count": null,
   "metadata": {},
   "outputs": [],
   "source": []
  }
 ],
 "metadata": {
  "kernelspec": {
   "display_name": "Python 3.10.4 ('research')",
   "language": "python",
   "name": "python3"
  },
  "language_info": {
   "codemirror_mode": {
    "name": "ipython",
    "version": 3
   },
   "file_extension": ".py",
   "mimetype": "text/x-python",
   "name": "python",
   "nbconvert_exporter": "python",
   "pygments_lexer": "ipython3",
   "version": "3.10.4"
  },
  "orig_nbformat": 4,
  "vscode": {
   "interpreter": {
    "hash": "906218519217ffe9f1510e367b653c91b03982f1d5d8f447508680143cf14f4f"
   }
  }
 },
 "nbformat": 4,
 "nbformat_minor": 2
}
